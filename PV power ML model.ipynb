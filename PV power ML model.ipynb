{
 "cells": [
  {
   "cell_type": "code",
   "execution_count": 1,
   "id": "2a4c345b",
   "metadata": {},
   "outputs": [
    {
     "name": "stdout",
     "output_type": "stream",
     "text": [
      "Training RMSE: 131.71596229261036 Watts\n",
      "Testing RMSE: 139.1060468819065 Watts\n"
     ]
    }
   ],
   "source": [
    "import pandas as pd\n",
    "import numpy as np\n",
    "from sklearn.model_selection import train_test_split\n",
    "from sklearn.ensemble import GradientBoostingRegressor\n",
    "from sklearn.metrics import mean_squared_error\n",
    "\n",
    "# Load the dataset\n",
    "data = pd.read_csv('Past_PV_Power_data_50kW.csv')\n",
    "\n",
    "# Convert 'time' column to datetime format\n",
    "data['time'] = pd.to_datetime(data['time'], format='%Y%m%d:%H%M')\n",
    "\n",
    "# Prepare the dataset for modeling\n",
    "X = data[['G(i)', 'T2m', 'WS10m']]  # Exclude 'H_sun' from the features since it is not included in met.ie API. Not an important feature anyway\n",
    "y = data['P']\n",
    "\n",
    "# Split the dataset into training and testing sets\n",
    "X_train, X_test, y_train, y_test = train_test_split(X, y, test_size=0.2, random_state=42) #random_state sets the same train-test split each time the code is run. \n",
    "                                                                                        #Without this, each call could result in different splits, which may lead to variations in model performance\n",
    "\n",
    "# Initialize and train the Gradient Boosting Regressor\n",
    "gbm_basic = GradientBoostingRegressor(n_estimators=500, learning_rate=0.1, max_depth=3, random_state=42) #n_estimators = number of regression trees. \n",
    "gbm_basic.fit(X_train, y_train) #GBM learns from the training data\n",
    "\n",
    "# Predict on the testing set\n",
    "y_pred_basic = gbm_basic.predict(X_test) #Predicts values for y based on test features. \n",
    "\n",
    "# Calculate RMSE for the predictions\n",
    "rmse_basic = np.sqrt(mean_squared_error(y_test, y_pred_basic)) #y_test is actual values for y\n",
    "\n",
    "#Calculate the RMSE for the training data. Want to make sure that the model is not overfitting\n",
    "y_train_pred = gbm_basic.predict(X_train)\n",
    "rmse_train = np.sqrt(mean_squared_error(y_train, y_train_pred))\n",
    "\n",
    "\n",
    "print(f'Training RMSE: {rmse_train} Watts')\n",
    "print(f'Testing RMSE: {rmse_basic} Watts')\n"
   ]
  },
  {
   "cell_type": "markdown",
   "id": "fd9eed0d",
   "metadata": {},
   "source": [
    "# Only focusing on Forecast A in the API"
   ]
  },
  {
   "cell_type": "code",
   "execution_count": 2,
   "id": "787467ef",
   "metadata": {},
   "outputs": [
    {
     "name": "stdout",
     "output_type": "stream",
     "text": [
      "Predicted PV power output for future dates has been saved to future_PV_power_predictions.csv\n"
     ]
    }
   ],
   "source": [
    "import requests\n",
    "import xml.etree.ElementTree as ET\n",
    "\n",
    "# Parse the forecast data\n",
    "api_url = \"https://metwdb-openaccess.ichec.ie/metno-wdb2ts/locationforecast?lat=52.519;long=-8.712;from=2024-03-01T00:00;to=2024-03-02T00:00\"\n",
    "response = requests.get(api_url)\n",
    "xml_data = ET.fromstring(response.content)\n",
    "\n",
    "# Prepare lists to hold the extracted forecast data\n",
    "global_radiation = []\n",
    "wind_speed = []\n",
    "air_temperature = []\n",
    "times = []\n",
    "\n",
    "# Iterate over each time element in the forecast data\n",
    "for time_element in xml_data.findall(\".//time\"):\n",
    "    from_time = time_element.get('from')\n",
    "    to_time = time_element.get('to')\n",
    "    \n",
    "    # Only process Block A where 'from' and 'to' times are the same\n",
    "    if from_time == to_time:\n",
    "        for location_element in time_element.findall(\".//location\"):\n",
    "            temperature_element = location_element.find(\".//temperature\")\n",
    "            if temperature_element is not None:\n",
    "                air_temperature.append(float(temperature_element.get('value')))\n",
    "            else:\n",
    "                air_temperature.append(np.nan)  #Handles any missing values\n",
    "\n",
    "            wind_speed_element = location_element.find(\".//windSpeed\")\n",
    "            if wind_speed_element is not None:\n",
    "                wind_speed.append(float(wind_speed_element.get('mps')))\n",
    "            else:\n",
    "                wind_speed.append(np.nan)\n",
    "\n",
    "            global_radiation_element = location_element.find(\".//globalRadiation\")\n",
    "            if global_radiation_element is not None:\n",
    "                global_radiation.append(float(global_radiation_element.get('value')))\n",
    "            else:\n",
    "                global_radiation.append(0)  # Assuming night time or no data available\n",
    "\n",
    "            times.append(from_time)\n",
    "\n",
    "# Prepare the forecast DataFrame\n",
    "forecast_df = pd.DataFrame({\n",
    "    'time': times,\n",
    "    'G(i)': global_radiation,\n",
    "    'WS10m': wind_speed,\n",
    "    'T2m': air_temperature\n",
    "})\n",
    "\n",
    "\n",
    "# Correction factor for adjusting API global radiation values to match PVGIS data. PVGIS is at angle, API assumes horizontal measurement of global radiation\n",
    "# Value for correction_factor found through trial an error to match average global radiation data for month from PVGIS data. This correction factor is to be confirmed\n",
    "correction_factor = 1.3\n",
    "\n",
    "\n",
    "# Apply the correction factor to the global radiation values\n",
    "forecast_df['G(i)'] = forecast_df['G(i)'] * correction_factor\n",
    "\n",
    "\n",
    "\n",
    "#Forecast\n",
    "X_forecast = forecast_df[['G(i)', 'T2m', 'WS10m']]\n",
    "\n",
    "# Predict future PV power output using the prepared forecast data\n",
    "predicted_pv_output = gbm_basic.predict(X_forecast)\n",
    "\n",
    "# Set any PV power output below 50 watts to 0. \n",
    "predicted_pv_output_adjusted = np.where(predicted_pv_output < 50, 0, predicted_pv_output)\n",
    "\n",
    "# Create a DataFrame for the predicted output with adjusted values\n",
    "output_df = pd.DataFrame({\n",
    "    'time': forecast_df['time'],\n",
    "    'predicted_PV_output': predicted_pv_output_adjusted\n",
    "})\n",
    "\n",
    "# Export predicted values to a CSV file\n",
    "output_csv_path = 'future_PV_power_predictions.csv'\n",
    "output_df.to_csv(output_csv_path, index=False)\n",
    "\n",
    "print(f'Predicted PV power output for future dates has been saved to {output_csv_path}')\n"
   ]
  },
  {
   "cell_type": "code",
   "execution_count": null,
   "id": "e99074ea",
   "metadata": {},
   "outputs": [],
   "source": []
  },
  {
   "cell_type": "code",
   "execution_count": null,
   "id": "00a9d6aa",
   "metadata": {},
   "outputs": [],
   "source": []
  }
 ],
 "metadata": {
  "kernelspec": {
   "display_name": "Python 3 (ipykernel)",
   "language": "python",
   "name": "python3"
  },
  "language_info": {
   "codemirror_mode": {
    "name": "ipython",
    "version": 3
   },
   "file_extension": ".py",
   "mimetype": "text/x-python",
   "name": "python",
   "nbconvert_exporter": "python",
   "pygments_lexer": "ipython3",
   "version": "3.11.5"
  }
 },
 "nbformat": 4,
 "nbformat_minor": 5
}
