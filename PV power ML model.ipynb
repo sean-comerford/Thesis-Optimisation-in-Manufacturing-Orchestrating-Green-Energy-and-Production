{
 "cells": [
  {
   "cell_type": "markdown",
   "id": "ac84615f",
   "metadata": {},
   "source": [
    "# ML model to Predict future PV power"
   ]
  },
  {
   "cell_type": "markdown",
   "id": "e1eec2b7",
   "metadata": {},
   "source": [
    "The following libraries are used in the formulation of the predictive model:"
   ]
  },
  {
   "cell_type": "code",
   "execution_count": 2,
   "id": "56df379c",
   "metadata": {},
   "outputs": [],
   "source": [
    "import pandas as pd\n",
    "import numpy as np\n",
    "import matplotlib.pyplot as plt\n",
    "import seaborn as sns\n",
    "from sklearn.model_selection import train_test_split\n",
    "from sklearn.ensemble import GradientBoostingRegressor\n",
    "from sklearn.metrics import mean_squared_error\n",
    "from datetime import datetime, timedelta\n",
    "import requests\n",
    "import xml.etree.ElementTree as ET"
   ]
  },
  {
   "cell_type": "markdown",
   "id": "1bb412ae",
   "metadata": {},
   "source": [
    " ## Historical Data Preprocessing"
   ]
  },
  {
   "cell_type": "markdown",
   "id": "70799d30",
   "metadata": {},
   "source": [
    "First the historical dataset is loaded from the CSV file. Then the format of the datetime column is adjusted before checking for missing values. "
   ]
  },
  {
   "cell_type": "code",
   "execution_count": 3,
   "id": "29285d43",
   "metadata": {},
   "outputs": [
    {
     "name": "stdout",
     "output_type": "stream",
     "text": [
      "time     0\n",
      "P        0\n",
      "G(i)     0\n",
      "H_sun    0\n",
      "T2m      0\n",
      "WS10m    0\n",
      "dtype: int64\n"
     ]
    }
   ],
   "source": [
    "# Load the dataset\n",
    "data = pd.read_csv('Past_PV_Power_data_50kW.csv')\n",
    "\n",
    "# Convert 'time' column to datetime format\n",
    "data['time'] = pd.to_datetime(data['time'], format='%Y%m%d:%H%M')\n",
    "\n",
    "# Check for missing values\n",
    "missing_values = data.isnull().sum()\n",
    "\n",
    "print(missing_values)"
   ]
  },
  {
   "cell_type": "markdown",
   "id": "6e144c71",
   "metadata": {},
   "source": [
    "Since there are no missing values in the dataset, there are no preprocessing steps necessary for dealing with the missing values."
   ]
  },
  {
   "cell_type": "markdown",
   "id": "2c875045",
   "metadata": {},
   "source": [
    "## Data description\n",
    "This historical data is then analysed to determine the mean, standard deviation, median, maximum value and minimum value for the weather variables and power generated. This analysis provides insights into the distribution and variability of the dataset. "
   ]
  },
  {
   "cell_type": "code",
   "execution_count": 47,
   "id": "39997cce",
   "metadata": {},
   "outputs": [
    {
     "data": {
      "text/html": [
       "<div>\n",
       "<style scoped>\n",
       "    .dataframe tbody tr th:only-of-type {\n",
       "        vertical-align: middle;\n",
       "    }\n",
       "\n",
       "    .dataframe tbody tr th {\n",
       "        vertical-align: top;\n",
       "    }\n",
       "\n",
       "    .dataframe thead th {\n",
       "        text-align: right;\n",
       "    }\n",
       "</style>\n",
       "<table border=\"1\" class=\"dataframe\">\n",
       "  <thead>\n",
       "    <tr style=\"text-align: right;\">\n",
       "      <th></th>\n",
       "      <th>Mean</th>\n",
       "      <th>Standard Deviation</th>\n",
       "      <th>Median</th>\n",
       "      <th>Maximum</th>\n",
       "      <th>Minimum</th>\n",
       "    </tr>\n",
       "  </thead>\n",
       "  <tbody>\n",
       "    <tr>\n",
       "      <th>PV system power (W)</th>\n",
       "      <td>5110.508880</td>\n",
       "      <td>8917.500796</td>\n",
       "      <td>0.00</td>\n",
       "      <td>44991.00</td>\n",
       "      <td>0.00</td>\n",
       "    </tr>\n",
       "    <tr>\n",
       "      <th>Global irradiance (W/m²)</th>\n",
       "      <td>129.658436</td>\n",
       "      <td>220.261547</td>\n",
       "      <td>0.00</td>\n",
       "      <td>1105.44</td>\n",
       "      <td>0.00</td>\n",
       "    </tr>\n",
       "    <tr>\n",
       "      <th>Sun height (degree)</th>\n",
       "      <td>12.454270</td>\n",
       "      <td>17.084949</td>\n",
       "      <td>0.00</td>\n",
       "      <td>60.52</td>\n",
       "      <td>-0.57</td>\n",
       "    </tr>\n",
       "    <tr>\n",
       "      <th>2 metre air temperature (degree Celsius)</th>\n",
       "      <td>10.016215</td>\n",
       "      <td>4.837375</td>\n",
       "      <td>10.19</td>\n",
       "      <td>28.54</td>\n",
       "      <td>-7.47</td>\n",
       "    </tr>\n",
       "    <tr>\n",
       "      <th>10 metre wind speed (m/s)</th>\n",
       "      <td>3.137226</td>\n",
       "      <td>1.543847</td>\n",
       "      <td>2.90</td>\n",
       "      <td>13.03</td>\n",
       "      <td>0.00</td>\n",
       "    </tr>\n",
       "  </tbody>\n",
       "</table>\n",
       "</div>"
      ],
      "text/plain": [
       "                                                 Mean  Standard Deviation  \\\n",
       "PV system power (W)                       5110.508880         8917.500796   \n",
       "Global irradiance (W/m²)                   129.658436          220.261547   \n",
       "Sun height (degree)                         12.454270           17.084949   \n",
       "2 metre air temperature (degree Celsius)    10.016215            4.837375   \n",
       "10 metre wind speed (m/s)                    3.137226            1.543847   \n",
       "\n",
       "                                          Median   Maximum  Minimum  \n",
       "PV system power (W)                         0.00  44991.00     0.00  \n",
       "Global irradiance (W/m²)                    0.00   1105.44     0.00  \n",
       "Sun height (degree)                         0.00     60.52    -0.57  \n",
       "2 metre air temperature (degree Celsius)   10.19     28.54    -7.47  \n",
       "10 metre wind speed (m/s)                   2.90     13.03     0.00  "
      ]
     },
     "execution_count": 47,
     "metadata": {},
     "output_type": "execute_result"
    }
   ],
   "source": [
    "# Drop the time column for the description\n",
    "data_describe = data.drop('time', axis=1)\n",
    "\n",
    "# Calculate statistics\n",
    "mean_values = data_describe.mean()\n",
    "std_dev_values = data_describe.std()\n",
    "median_values = data_describe.median()\n",
    "max_values = data_describe.max(numeric_only=True)\n",
    "min_values = data_describe.min(numeric_only=True)\n",
    "\n",
    "\n",
    "# Create a DataFrame from the calculated statistics\n",
    "statistics_table = pd.DataFrame({\n",
    "    'Mean': mean_values,\n",
    "    'Standard Deviation': std_dev_values,\n",
    "    'Median': median_values,\n",
    "    'Maximum': max_values,\n",
    "    'Minimum': min_values\n",
    "})\n",
    "\n",
    "row_labels = {\n",
    "    'P':'PV system power (W)',\n",
    "    'G(i)': 'Global irradiance (W/m²)',\n",
    "    'H_sun': 'Sun height (degree)',\n",
    "    'WS10m': '10 metre wind speed (m/s)',\n",
    "    'T2m': '2 metre air temperature (degree Celsius)'\n",
    "}\n",
    "\n",
    "statistics_table_renamed = statistics_table.rename(index = row_labels)\n",
    "\n",
    "# Display the statistics table\n",
    "statistics_table_renamed"
   ]
  },
  {
   "cell_type": "markdown",
   "id": "c85fe957",
   "metadata": {},
   "source": [
    "## Feature Analysis\n",
    "### Heatmap\n",
    "\n",
    "The weather and climatic features are analysed in the below heatmap to identify which features have the strongest correlation with solar power generation prediction. The captured features include the gloabl irradiance, the 2 metre air temperature (degree Celsius), the sun height (degree) and the 10 metre total wind speed (m/s)."
   ]
  },
  {
   "cell_type": "code",
   "execution_count": 4,
   "id": "01c9de46",
   "metadata": {},
   "outputs": [
    {
     "name": "stdout",
     "output_type": "stream",
     "text": [
      "                              PV system power output (W)  \\\n",
      "PV system power output (W)                      1.000000   \n",
      "Global irradiance (W/m²)                        0.998760   \n",
      "Sun height (degrees)                            0.749460   \n",
      "2 metre air temperature (°C)                    0.305441   \n",
      "10 metre wind speed (m/s)                       0.065017   \n",
      "\n",
      "                              Global irradiance (W/m²)  Sun height (degrees)  \\\n",
      "PV system power output (W)                    0.998760              0.749460   \n",
      "Global irradiance (W/m²)                      1.000000              0.763816   \n",
      "Sun height (degrees)                          0.763816              1.000000   \n",
      "2 metre air temperature (°C)                  0.325303              0.494852   \n",
      "10 metre wind speed (m/s)                     0.059396              0.127225   \n",
      "\n",
      "                              2 metre air temperature (°C)  \\\n",
      "PV system power output (W)                        0.305441   \n",
      "Global irradiance (W/m²)                          0.325303   \n",
      "Sun height (degrees)                              0.494852   \n",
      "2 metre air temperature (°C)                      1.000000   \n",
      "10 metre wind speed (m/s)                         0.094355   \n",
      "\n",
      "                              10 metre wind speed (m/s)  \n",
      "PV system power output (W)                     0.065017  \n",
      "Global irradiance (W/m²)                       0.059396  \n",
      "Sun height (degrees)                           0.127225  \n",
      "2 metre air temperature (°C)                   0.094355  \n",
      "10 metre wind speed (m/s)                      1.000000  \n"
     ]
    },
    {
     "data": {
      "image/png": "[encoded data removed]",
      "text/plain": [
       "<Figure size 1000x800 with 2 Axes>"
      ]
     },
     "metadata": {},
     "output_type": "display_data"
    }
   ],
   "source": [
    "# Creating a DataFrame\n",
    "df = pd.DataFrame(data)\n",
    "\n",
    "# Renaming columns for clarity\n",
    "df_renamed = df.rename(columns={\n",
    "    \"G(i)\": \"Global irradiance (W/m²)\",\n",
    "    \"T2m\": \"2 metre air temperature (°C)\",\n",
    "    \"WS10m\": \"10 metre wind speed (m/s)\",\n",
    "    \"H_sun\": \"Sun height (degrees)\",\n",
    "    \"P\": \"PV system power output (W)\"\n",
    "})\n",
    "\n",
    "# Drop the time column for the correlation analysis\n",
    "df_heat = df_renamed.drop('time', axis=1)\n",
    "\n",
    "# Calculating the correlation matrix\n",
    "corr_matrix = df_heat.corr()\n",
    "\n",
    "print(corr_matrix)\n",
    "\n",
    "# Plotting the heatmap\n",
    "plt.figure(figsize=(10, 8))\n",
    "sns.heatmap(corr_matrix, annot=True, cmap='coolwarm', fmt=\".4f\")\n",
    "plt.title('Correlation Heatmap of PV System Indicators')\n",
    "plt.show()"
   ]
  },
  {
   "cell_type": "markdown",
   "id": "19ce4a62",
   "metadata": {},
   "source": [
    "From the above heatmap, it can be observed that the features which have the highest correlation with solar power generation are global irradiance and sun height. This suggests that as these two features increase, the PV power also increases. However, correlation does not imply causation. Correlation does not account for interactions between variables. It treats the relationship between each pair of variables in isolation. Therefore, if a feature like global irradiance already provides a significant amount of information for predicting PV power, other related features (like sun height) may show lower importance, not because they lack predictive power, but because their unique contribution, beyond what is already explained by irradiance, is smaller. It may be that sun height correlates with PV power because it's an indirect measure of the potential for solar irradiance, which is the direct driver of PV power output.\n",
    "\n",
    "Thus, it is vital to measure the significance of each feature in the predictive model itself and how useful each feature is at improving the model's prediction accuracy. The following code executes the predictive model and illustrates the most influential features in boosting the model's predictive accuracy."
   ]
  },
  {
   "cell_type": "markdown",
   "id": "031bc7f8",
   "metadata": {},
   "source": [
    "### Feature Importance"
   ]
  },
  {
   "cell_type": "code",
   "execution_count": 5,
   "id": "2a4c345b",
   "metadata": {},
   "outputs": [
    {
     "name": "stdout",
     "output_type": "stream",
     "text": [
      "Training RMSE: 117.06865421843494 Watts\n",
      "Testing RMSE: 124.23795714203597 Watts\n"
     ]
    }
   ],
   "source": [
    "# Prepare the dataset for modeling\n",
    "X = data[['G(i)', 'T2m', 'WS10m', 'H_sun']] \n",
    "y = data['P']\n",
    "\n",
    "# Split the dataset into training and testing sets\n",
    "X_train, X_test, y_train, y_test = train_test_split(X, y, test_size=0.2, random_state=42) #random_state sets the same train-test split each time the code is run. \n",
    "                                                                                        #Without this, each call could result in different splits, which may lead to variations in model performance\n",
    "\n",
    "# Initialise and train the Gradient Boosting Regressor\n",
    "gbm_basic = GradientBoostingRegressor(n_estimators=500, learning_rate=0.1, max_depth=3, random_state=42) #n_estimators = number of regression trees. \n",
    "gbm_basic.fit(X_train, y_train) #GBM learns from the training data\n",
    "\n",
    "# Predict on the testing set\n",
    "y_pred_basic = gbm_basic.predict(X_test) #Predicts values for y based on test features. \n",
    "\n",
    "# Calculate RMSE for the predictions\n",
    "rmse_basic = np.sqrt(mean_squared_error(y_test, y_pred_basic)) #y_test is actual values for y\n",
    "\n",
    "#Calculate the RMSE for the training data. Want to make sure that the model is not overfitting\n",
    "y_train_pred = gbm_basic.predict(X_train)\n",
    "rmse_train = np.sqrt(mean_squared_error(y_train, y_train_pred))\n",
    "\n",
    "\n",
    "print(f'Training RMSE: {rmse_train} Watts')\n",
    "print(f'Testing RMSE: {rmse_basic} Watts')\n"
   ]
  },
  {
   "cell_type": "code",
   "execution_count": 6,
   "id": "cde54f09",
   "metadata": {},
   "outputs": [
    {
     "name": "stdout",
     "output_type": "stream",
     "text": [
      "G(i)     0.998961\n",
      "T2m      0.000788\n",
      "WS10m    0.000208\n",
      "H_sun    0.000044\n",
      "dtype: float64\n"
     ]
    }
   ],
   "source": [
    "# Extract feature importance\n",
    "feature_importance_values = gbm_basic.feature_importances_\n",
    "\n",
    "# Create a pandas series for easy plotting and manipulation, assuming X_train has column names\n",
    "feature_importances = pd.Series(feature_importance_values, index=X_train.columns)\n",
    "\n",
    "# Sort the features by importance\n",
    "sorted_importances = feature_importances.sort_values(ascending=False)\n",
    "\n",
    "print(sorted_importances)"
   ]
  },
  {
   "cell_type": "markdown",
   "id": "15b4d99d",
   "metadata": {},
   "source": [
    "From these results, it is clear that the global irradiance is by far the most important feature, while the sun height is the least important in the prediction model. This doesn't diminish the role of sun height in the physical generation of solar power but indicates that, for predictive modeling purposes, direct measures of irradiance offer a much more precise tool for predicting PV output. Given this, the sun height is removed from the features for the prediction model to enhance the model's efficiency. Another reason for removing the sun height is that forecast data for the sun height are not included in the met.ie API that will be used to predict future PV power. "
   ]
  },
  {
   "cell_type": "code",
   "execution_count": 7,
   "id": "f8ff12b3",
   "metadata": {},
   "outputs": [
    {
     "name": "stdout",
     "output_type": "stream",
     "text": [
      "Training RMSE: 131.71596229261036 Watts\n",
      "Testing RMSE: 139.1060468819065 Watts\n"
     ]
    }
   ],
   "source": [
    "# Prepare the dataset for modeling, removing 'H_sun'\n",
    "X_final = data[['G(i)', 'T2m', 'WS10m']]  # Exclude 'H_sun' from the features since it is not an important feature and not included in met.ie API.\n",
    "y_final = data['P']\n",
    "\n",
    "# Split the dataset into training and testing sets\n",
    "X_train, X_test, y_train, y_test = train_test_split(X_final, y_final, test_size=0.2, random_state=42) #random_state sets the same train-test split each time the code is run. \n",
    "                                                                                        #Without this, each call could result in different splits, which may lead to variations in model performance\n",
    "\n",
    "# Initialise and train the Gradient Boosting Regressor\n",
    "gbm_basic_final = GradientBoostingRegressor(n_estimators=500, learning_rate=0.1, max_depth=3, random_state=42) #n_estimators = number of regression trees. \n",
    "gbm_basic_final.fit(X_train, y_train) #GBM learns from the training data\n",
    "\n",
    "# Predict on the testing set\n",
    "y_pred_basic_final = gbm_basic_final.predict(X_test) #Predicts values for y based on test features. \n",
    "\n",
    "# Calculate RMSE for the predictions\n",
    "rmse_basic_final = np.sqrt(mean_squared_error(y_test, y_pred_basic_final)) #y_test is actual values for y\n",
    "\n",
    "#Calculate the RMSE for the training data. Want to make sure that the model is not overfitting\n",
    "y_train_pred_final = gbm_basic_final.predict(X_train)\n",
    "rmse_train_final = np.sqrt(mean_squared_error(y_train, y_train_pred_final))\n",
    "\n",
    "\n",
    "print(f'Training RMSE: {rmse_train_final} Watts')\n",
    "print(f'Testing RMSE: {rmse_basic_final} Watts')"
   ]
  },
  {
   "cell_type": "markdown",
   "id": "94554f99",
   "metadata": {},
   "source": [
    "## Forecast Data Collection\n",
    "The below code is designed to fetch weather forecast data from the Met Éireann API (the Irish National Meteorological Service) and parse the XML response to extract relevant forecast variables. The forecast variables are global irradiance, the 2 metre air temperature (degree Celsius), the sun height (degree) and the 10 metre total wind speed (m/s).\n",
    "\n",
    "For each timestep of the API there are two distinct forecast blocks, Forecast Block A and Forecast Block B. Block B is related to rainfall accumulations and weather symbols, so this block will be disregarded and only Forecast Block A will be considered when drawing data from the API. \n",
    "\n",
    "The API provides forecast data in one hour intervals for the first 90 hours, three hour intervals from 90 hours to 144 hours in advance and six hour intervals from 144 hours to the end of the forecast. "
   ]
  },
  {
   "cell_type": "code",
   "execution_count": 28,
   "id": "134b60e3",
   "metadata": {},
   "outputs": [],
   "source": [
    "# Define the base URL\n",
    "base_url = \"https://metwdb-openaccess.ichec.ie/metno-wdb2ts/locationforecast\"\n",
    "\n",
    "# Specify the latitude and longitude\n",
    "lat = \"52.519\"\n",
    "long = \"-8.712\"\n",
    "\n",
    "# Specify the forecast start and end dates as datetime objects\n",
    "start_date = datetime.strptime('2024-04-07T00:00', '%Y-%m-%dT%H:%M')  # Convert string to datetime\n",
    "end_date = start_date + timedelta(days=1)  # Specify end date, for example one day ahead\n",
    "\n",
    "# Format the dates back into strings in the required format for the API call\n",
    "start_date_str = start_date.strftime(\"%Y-%m-%dT%H:%M\")\n",
    "end_date_str = end_date.strftime(\"%Y-%m-%dT%H:%M\")\n",
    "\n",
    "# Construct the complete API URL\n",
    "api_url = f\"{base_url}?lat={lat};long={long};from={start_date_str};to={end_date_str}\"\n",
    "\n",
    "response = requests.get(api_url)\n",
    "xml_data = ET.fromstring(response.content)\n",
    "\n",
    "# Prepare lists to hold the extracted forecast data\n",
    "global_radiation = []\n",
    "wind_speed = []\n",
    "air_temperature = []\n",
    "times = []\n",
    "\n",
    "# Iterate over each time element in the forecast data\n",
    "for time_element in xml_data.findall(\".//time\"):\n",
    "    from_time = time_element.get('from')\n",
    "    to_time = time_element.get('to')\n",
    "    \n",
    "    # Only process Block A where 'from' and 'to' times are the same\n",
    "    if from_time == to_time:\n",
    "        for location_element in time_element.findall(\".//location\"):\n",
    "            temperature_element = location_element.find(\".//temperature\")\n",
    "            if temperature_element is not None:\n",
    "                air_temperature.append(float(temperature_element.get('value')))\n",
    "            else:\n",
    "                air_temperature.append(np.nan)  #Handles any missing values\n",
    "\n",
    "            wind_speed_element = location_element.find(\".//windSpeed\")\n",
    "            if wind_speed_element is not None:\n",
    "                wind_speed.append(float(wind_speed_element.get('mps')))\n",
    "            else:\n",
    "                wind_speed.append(np.nan)\n",
    "\n",
    "            global_radiation_element = location_element.find(\".//globalRadiation\")\n",
    "            if global_radiation_element is not None:\n",
    "                global_radiation.append(float(global_radiation_element.get('value')))\n",
    "            else:\n",
    "                global_radiation.append(0)  # Assuming night time or no data available\n",
    "\n",
    "            times.append(from_time)\n",
    "            \n",
    "# Prepare the forecast DataFrame\n",
    "forecast_df = pd.DataFrame({\n",
    "    'time': times,\n",
    "    'G(i)': global_radiation,\n",
    "    'WS10m': wind_speed,\n",
    "    'T2m': air_temperature\n",
    "})"
   ]
  },
  {
   "cell_type": "markdown",
   "id": "101f0699",
   "metadata": {},
   "source": [
    "The missing values are then checked for. The presence of missing data can lead to poor machine learning model performance."
   ]
  },
  {
   "cell_type": "code",
   "execution_count": 29,
   "id": "3808031c",
   "metadata": {
    "scrolled": true
   },
   "outputs": [
    {
     "name": "stdout",
     "output_type": "stream",
     "text": [
      "time     0\n",
      "P        0\n",
      "G(i)     0\n",
      "H_sun    0\n",
      "T2m      0\n",
      "WS10m    0\n",
      "dtype: int64\n"
     ]
    }
   ],
   "source": [
    "missing_values_forecast = df.isnull().sum()\n",
    "print(missing_values_forecast)"
   ]
  },
  {
   "cell_type": "markdown",
   "id": "1681961f",
   "metadata": {},
   "source": [
    "## PV power prediction\n",
    "The variables collected from the API are used to predict future photovoltaic (PV) power output employing the previously trained Gradient Boosting Machine (GBM) model. The forecasted PV power generation profile is exported to a CSV file where it can be accessed by the scheduling models. "
   ]
  },
  {
   "cell_type": "code",
   "execution_count": 30,
   "id": "787467ef",
   "metadata": {},
   "outputs": [
    {
     "name": "stdout",
     "output_type": "stream",
     "text": [
      "Predicted PV power output for future dates has been saved to future_PV_power_predictions.csv\n"
     ]
    }
   ],
   "source": [
    "#Forecast\n",
    "X_forecast = forecast_df[['G(i)', 'T2m', 'WS10m']]\n",
    "\n",
    "# Predict future PV power output using the prepared forecast data\n",
    "predicted_pv_output = gbm_basic_final.predict(X_forecast)\n",
    "\n",
    "# Set any PV power output below 10 watts to 0. \n",
    "predicted_pv_output_adjusted = np.where(predicted_pv_output < 10, 0, predicted_pv_output)\n",
    "\n",
    "# Create a DataFrame for the predicted output with adjusted values\n",
    "output_df = pd.DataFrame({\n",
    "    'time': forecast_df['time'],\n",
    "    'predicted_PV_output (W)': predicted_pv_output_adjusted\n",
    "})\n",
    "\n",
    "# Export predicted values to a CSV file\n",
    "output_csv_path = 'future_PV_power_predictions.csv'\n",
    "output_df.to_csv(output_csv_path, index=False)\n",
    "\n",
    "print(f'Predicted PV power output for future dates has been saved to {output_csv_path}')"
   ]
  },
  {
   "cell_type": "code",
   "execution_count": null,
   "id": "e2e15fac",
   "metadata": {},
   "outputs": [],
   "source": []
  },
  {
   "cell_type": "code",
   "execution_count": null,
   "id": "00e7a9bd",
   "metadata": {},
   "outputs": [],
   "source": []
  }
 ],
 "metadata": {
  "kernelspec": {
   "display_name": "Python 3 (ipykernel)",
   "language": "python",
   "name": "python3"
  },
  "language_info": {
   "codemirror_mode": {
    "name": "ipython",
    "version": 3
   },
   "file_extension": ".py",
   "mimetype": "text/x-python",
   "name": "python",
   "nbconvert_exporter": "python",
   "pygments_lexer": "ipython3",
   "version": "3.11.5"
  }
 },
 "nbformat": 4,
 "nbformat_minor": 5
}
